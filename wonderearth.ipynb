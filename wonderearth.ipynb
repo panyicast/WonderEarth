{
 "cells": [
  {
   "cell_type": "markdown",
   "metadata": {},
   "source": [
    "# \"流浪地球\"计划可行性分析报告"
   ]
  },
  {
   "cell_type": "markdown",
   "metadata": {},
   "source": [
    "##### <font color=red>**注：本文纯为娱乐性质，作者无聊时瞎算着玩的。**</font>\n",
    "#### 本文根据行星发动机的两个基本参数，分析“流浪地球”计划中飞出太阳系方案的可行性。\n",
    "- 单台发动机最大推力：150亿吨\n",
    "- 发动机总数量：12000台\n",
    "\n",
    "#### 流浪地球计划中飞出太阳系主要为三个步骤：\n",
    "1. 使用转向发动机使地球自转刹车\n",
    "2. 使用行星发动机给地球加速，使其飞向木星的轨道\n",
    "3. 借助木星的引力弹弓效应，使地球获得太阳系的逃逸速度，飞向星际空间。"
   ]
  },
  {
   "cell_type": "markdown",
   "metadata": {},
   "source": [
    "### <font color=blue>1.  地球自转刹车-消旋</font>\n",
    "#### 流浪地球第一步计划是使用行星发动机使地球停转，即将地球的自转角速度消旋为零。那么需要多少时间呢？先给出计算参数："
   ]
  },
  {
   "cell_type": "code",
   "execution_count": 2,
   "metadata": {},
   "outputs": [],
   "source": [
    "%matplotlib inline \n",
    "import numpy as np\n",
    "import matplotlib.pyplot as plt\n",
    "from scipy.integrate import odeint\n",
    "from pylab import *\n",
    "from numpy import linalg\n",
    "from IPython.display import display,Latex\n",
    "plt.rcParams['font.sans-serif']=['SimHei']\n",
    "plt.rcParams['axes.unicode_minus']=False"
   ]
  },
  {
   "cell_type": "code",
   "execution_count": 3,
   "metadata": {},
   "outputs": [],
   "source": [
    "#行星发动机参数\n",
    "Fp = 1.5E12            #行星发动机推力150亿吨，约合  1.5E12 N\n",
    "Np = 12000            #行星发动机数量\n",
    "#地球相关参数\n",
    "Me = 5.965E24         #地球质量 kg\n",
    "Re = 6378             #地球平均半径 km\n",
    "Te = 23*3600+56*60    #地球自转周期 23h56m\n",
    "we = 2*pi/Te          #地球自转角速度 rad\n",
    "Ie = 0.33*Me*Re*Re    #地球转动惯量  "
   ]
  },
  {
   "cell_type": "markdown",
   "metadata": {},
   "source": [
    "#### 我们假设12000台行星发动机全部安装在赤道上，且推力方向全部指向当地正西，这样这些发动机能够提供最大的控制力矩（不考虑工程实际是否可行）。那么这些发动机一共产生的控制力矩为："
   ]
  },
  {
   "cell_type": "code",
   "execution_count": 4,
   "metadata": {},
   "outputs": [
    {
     "name": "stdout",
     "output_type": "stream",
     "text": [
      "全部行星发动机产生的控制力矩为： 1.14804e+20 N*km\n"
     ]
    }
   ],
   "source": [
    "Mp = Fp * Re * Np\n",
    "print(\"全部行星发动机产生的控制力矩为：\",Mp,\"N*km\")"
   ]
  },
  {
   "cell_type": "markdown",
   "metadata": {},
   "source": [
    "#### 可以给地球提供的转动角加速度为："
   ]
  },
  {
   "cell_type": "code",
   "execution_count": 5,
   "metadata": {
    "scrolled": true
   },
   "outputs": [
    {
     "name": "stdout",
     "output_type": "stream",
     "text": [
      "地球刹车的角加速度为： 1.4337175529108087e-12 rad/s^2\n"
     ]
    }
   ],
   "source": [
    "dwe = Mp / Ie   #给地球刹车的角加速度\n",
    "print('地球刹车的角加速度为：',dwe, 'rad/s^2')"
   ]
  },
  {
   "cell_type": "markdown",
   "metadata": {},
   "source": [
    "#### 地球减速需要的时间为："
   ]
  },
  {
   "cell_type": "code",
   "execution_count": 6,
   "metadata": {},
   "outputs": [
    {
     "name": "stdout",
     "output_type": "stream",
     "text": [
      "地球完全刹车需要的时间为： 1.612887101548267 年\n"
     ]
    }
   ],
   "source": [
    "t = we/dwe\n",
    "print(\"地球完全刹车需要的时间为：\",t/3600/24/365,'年')"
   ]
  },
  {
   "cell_type": "markdown",
   "metadata": {},
   "source": [
    "### 所以按照目前设计的行星发动机的最大能力，地球刹车需要<font color=red>**1.6年**</font>。在小说里，刹车时代用了42年。考虑到发动机的安装效率以及不可能全部以最大推力工作，这个设定还是不错的。"
   ]
  },
  {
   "cell_type": "markdown",
   "metadata": {},
   "source": [
    "###  <font color=blue>2. 将地球加速至木星轨道</font>"
   ]
  },
  {
   "cell_type": "markdown",
   "metadata": {},
   "source": [
    "#### 按照《流浪地球》计划，地球完全刹车后，需要使用行星发动机将地球按照轨道速度方向加速，使地球进入绕日的椭圆轨道，并使椭圆轨道的远日点到达木星轨道，以便能够借助木星的引力弹弓效应实现增速，最终达到太阳系的逃逸速度。\n",
    "#### 那么地球为进入这样的椭圆轨道需要增加多少速度呢？"
   ]
  },
  {
   "cell_type": "code",
   "execution_count": 7,
   "metadata": {},
   "outputs": [],
   "source": [
    "G=6.672E-20          #万有引力常数 N*km^3/kg^2s\n",
    "Ms = 1.9891E30       # kg 太阳质量\n",
    "Res = 149597887.5    #地球公转轨道半长轴 km\n",
    "AU = Res             #1个天文单位，等于日地平均距离\n",
    "Ve = 29.783          #地球平均公转速度 km/s\n",
    "Rjs = 5.204267*AU     #木星轨道半径 km\n",
    "Vj = 13.07           #木星平均公转速度 km/s"
   ]
  },
  {
   "cell_type": "markdown",
   "metadata": {},
   "source": [
    "地球的轨道半径为1个天文单位，木星的轨道半径为5.2个天文单位，需要将地球加速至半长轴为(5.2+1)/2=3.1AU的椭圆轨道。\n",
    "根据活力公式：$v = \\sqrt {\\mu(\\frac{2}{r} - \\frac{1}{a})}$,地球需要的速度增量为：\n",
    "$\\Delta V=  \\sqrt {\\mu(\\frac{2}{Res} - \\frac{1}{3.1AU})} - Ve  $ = <font color=red>**8.79 km/s**</font>"
   ]
  },
  {
   "cell_type": "code",
   "execution_count": 8,
   "metadata": {},
   "outputs": [
    {
     "name": "stdout",
     "output_type": "stream",
     "text": [
      "8.792753865243675\n"
     ]
    },
    {
     "data": {
      "image/png": "[encoded data removed]",
      "text/plain": [
       "<Figure size 288x288 with 1 Axes>"
      ]
     },
     "metadata": {
      "needs_background": "light"
     },
     "output_type": "display_data"
    }
   ],
   "source": [
    "t=np.arange(360)*pi/180\n",
    "plt.figure(figsize=(4,4))\n",
    "plt.plot(Res*np.cos(t)/AU, Res*np.sin(t)/AU, label='地球')\n",
    "plt.plot(Rjs*np.cos(t)/AU, Rjs*np.sin(t)/AU, label='木星')\n",
    "plt.plot(0,0,'ro')\n",
    "a=(Res+Rjs)/2/AU\n",
    "b  = 2.33\n",
    "c = a - 1\n",
    "plt.plot(a*np.cos(t)-c,b*np.sin(t),'--',label='地木转移')\n",
    "plt.xlim([-8,8])\n",
    "plt.ylim([-8,8])\n",
    "plt.legend(loc=1)\n",
    "u = G*Ms\n",
    "dv = sqrt(u*(2/Res-1/(3.1*AU)))-Ve\n",
    "print(dv)"
   ]
  },
  {
   "cell_type": "markdown",
   "metadata": {},
   "source": [
    "#### 那么使用行星发动机使地球获得8.79km/s的速度增量需要多少时间呢？假设12000台行星发动机的推力方向可以全部指向所需的速度方向（不考虑工程实际是否可行）。"
   ]
  },
  {
   "cell_type": "code",
   "execution_count": 9,
   "metadata": {
    "scrolled": true
   },
   "outputs": [
    {
     "name": "stdout",
     "output_type": "stream",
     "text": [
      "将地球送入木星的转移轨道需要： 92.39665568482322 年\n"
     ]
    }
   ],
   "source": [
    "Fall = Fp * Np   #全部行星发动机提供的推力\n",
    "a = Fall/Me      #地球获得的加速度\n",
    "t = dv / a       #地球加速所需时间\n",
    "print('将地球送入木星的转移轨道需要：', t/3600/24/365,'年')"
   ]
  },
  {
   "cell_type": "markdown",
   "metadata": {},
   "source": [
    "### 因此，将地球送入奔向木星轨道的转移轨道至少需要<font color=red>**92年**</font>。小说中地球刹车后距离太阳爆炸只有20年了。\n",
    "#### 这还是只在发动机近日点附近的总的点火时间，还不包括每次的轨道漂移时间。对于如此小的推力持续点火所需要的时间可能要打一个数量级...\n",
    "#### 事实上，如果能够提供这么大的速度增量，此时相对于太阳系的逃逸速度，只剩下约3.5km/s的速度增量了。"
   ]
  },
  {
   "cell_type": "markdown",
   "metadata": {},
   "source": [
    "###  <font color=blue>3. 木星引力弹弓加速</font>"
   ]
  },
  {
   "cell_type": "markdown",
   "metadata": {},
   "source": [
    "#### 我们不考虑以上步骤的可行性，假设已经将地球送入了飞向木星的转移轨道，看看木星的引力弹弓有多强。\n",
    "#### 采用木星的引力弹弓效应将地球加速，最终飞离太阳系的创意应该来源于旅行者计划。该计划于1977年分别发射了旅行者一号探测器及旅行者二号探测器，这两个探测器分别经过了木星和土星两颗行星的引力加速，最终达到太阳系的逃逸速度，飞向遥远的外太空。下图显示了旅行者1号经过木星及土星加速的过程。\n",
    "![](Voyager1.gif)\n",
    "![](Voyager_1.png)\n",
    "#### 下图是旅行者1号和旅行者2号的速度变化曲线。可见旅行者2号飞离土星后有分别拜访了天王星和海王星，之后才向太阳系外飞去。\n",
    "![](Voyager_2_velocity.png)"
   ]
  },
  {
   "cell_type": "markdown",
   "metadata": {},
   "source": [
    "#### 2012年8月25日，“旅行者1号”成为第一个飞出太阳系并进入星际空间的宇宙飞船。截止2019年2月15日，旅行者1号距离太阳系216亿公里，正以17km/s的相对速度远离太阳系。\n",
    "#### 2018年12月10日，“旅行者2号”探测器已飞离太阳风层，成为第二个进入星际空间的探测器。"
   ]
  },
  {
   "cell_type": "markdown",
   "metadata": {},
   "source": [
    "#### 从图上可以看到，旅行者2号在经过木星引力范围时，卫星速度从10km/s增加到28km/s。原理上来说，地球飞近木星的引力范围时，木星引力对地球产生的加速度与对人造探测器产生的加速度是相当的，但是地球巨大的质量将不可避免的对木星产生巨大的引力效应，将把木星拉离自身轨道。当这两个巨兽接近是会发生什么事呢？\n",
    "#### 首先建立太阳、地球、木星三星系统的动力学方程。不但要考虑太阳、木星对地球的引力效果，还要考虑太阳、地球的引力对木星轨道的影响。为简化计算，假设地球、木星的轨道均在黄道面内，因此只建立黄道面内的二维运动方程。"
   ]
  },
  {
   "cell_type": "code",
   "execution_count": 10,
   "metadata": {},
   "outputs": [],
   "source": [
    "def WonderEarth(x,t):\n",
    "    G=6.672E-20        # N*km3/kg2s\n",
    "    Ms = 1.9891E30     # kg 太阳质量\n",
    "    Me = 5.965E24      #地球质量 kg\n",
    "    Mj = 1.90E27     #kg  木星质量\n",
    "    re = np.array([x[0], x[1]])\n",
    "    rj = np.array([x[4], x[5]])\n",
    "    rej = rj - re\n",
    "    xdot = np.zeros(8,double)\n",
    "    nre = linalg.norm(re)\n",
    "    nrj = linalg.norm(rj)\n",
    "    nrej = linalg.norm(rej)\n",
    "    xdot[0] = x[2]\n",
    "    xdot[1] = x[3]\n",
    "    xdot[4] = x[6]\n",
    "    xdot[5] = x[7]\n",
    "    xdot[2] = -G*Ms/nre**3*x[0] + G*Mj/nrej**3*(x[4]-x[0])\n",
    "    xdot[3] = -G*Ms/nre**3*x[1] + G*Mj/nrej**3*(x[5]-x[1])\n",
    "    xdot[6] = -G*Ms/nrj**3*x[4] - G*Me/nrej**3*(x[4]-x[0])\n",
    "    xdot[7] = -G*Ms/nrj**3*x[5] - G*Me/nrej**3*(x[5]-x[1])\n",
    "    return xdot"
   ]
  },
  {
   "cell_type": "markdown",
   "metadata": {},
   "source": [
    "#### 地球飞到木星轨道大约需要2年的时间，选择合适的参数，调整地球木星的相位差，可以使得地球到达木星轨道时正好与木星相会。经过优化调整，得到了地球获得最大加速的情况。"
   ]
  },
  {
   "cell_type": "code",
   "execution_count": 11,
   "metadata": {},
   "outputs": [],
   "source": [
    "def SinglePlanet(x,t):\n",
    "    G=6.672E-20        # N km3/kg2s\n",
    "    Ms = 1.9891E30     # kg 太阳质量\n",
    "    re = np.array([x[0], x[1]])\n",
    "    xdot = np.zeros(4,double)\n",
    "    nre = linalg.norm(re)\n",
    "    xdot[0] = x[2]\n",
    "    xdot[1] = x[3]    \n",
    "    xdot[2] = -G*Ms/nre**3*x[0]\n",
    "    xdot[3] = -G*Ms/nre**3*x[1]\n",
    "    return xdot"
   ]
  },
  {
   "cell_type": "code",
   "execution_count": 15,
   "metadata": {},
   "outputs": [
    {
     "data": {
      "image/png": "[encoded data removed]",
      "text/plain": [
       "<Figure size 1008x288 with 2 Axes>"
      ]
     },
     "metadata": {
      "needs_background": "light"
     },
     "output_type": "display_data"
    }
   ],
   "source": [
    "from ipywidgets import interact\n",
    "import ipywidgets as widgets\n",
    "theta = 102.7\n",
    "kv = 1.3\n",
    "kt = 10\n",
    "year = 3600*24*365.26\n",
    "t = np.linspace(0, 3600*24*365*kt, 20000)  \n",
    "theta = theta*pi/180\n",
    "xj = Rjs * cos(theta)\n",
    "yj = Rjs * sin(theta)\n",
    "vxj = -Vj * sin(theta)\n",
    "vyj = Vj * cos(theta)\n",
    "x0 = np.array([ Res, 0, 0, Ve*kv, xj, yj, vxj, vyj])\n",
    "y = odeint(WonderEarth,x0,t,args = ())\n",
    "fig = plt.figure(figsize=(14,4))\n",
    "ax1 = fig.add_subplot(1,3,1)\n",
    "plt.plot(y[:,0]/AU,y[:,1]/AU, label='地球轨道')\n",
    "plt.plot(y[:,4]/AU,y[:,5]/AU, label='木星轨道')\n",
    "plt.plot(0,0, 'ro');\n",
    "orbit_earth0 = np.array([ Res, 0, 0, Ve*kv])\n",
    "orbit_earth = odeint(SinglePlanet,orbit_earth0,t,args = ())\n",
    "plot(orbit_earth[:,0]/AU, orbit_earth[:,1]/AU,'--',label='地球初始轨道')\n",
    "\n",
    "plt.xlim([-13,13])\n",
    "plt.ylim([-20,6])\n",
    "plt.legend()\n",
    "plt.title('引力弹弓效应')\n",
    "re = np.array(y[:,0:2])\n",
    "rj = np.array(y[:,4:6])\n",
    "rej = rj - re\n",
    "nrej = linalg.norm(rej,axis=1)\n",
    "\n",
    "ax2 = fig.add_subplot(1,3,2)\n",
    "plt.title('地球速度变化曲线')\n",
    "ve = np.array(y[:,2:4])\n",
    "nve = linalg.norm(ve,axis=1)\n",
    "plt.plot(t/year,nve)\n",
    "plt.grid()"
   ]
  },
  {
   "cell_type": "markdown",
   "metadata": {},
   "source": [
    "#### 可见，地球在木星的强大引力影响下，获得了约<font color=red>**10km/s**</font>的速度增量。因此如果地球能够获得足够多的速度增量飞向木星，则木星的引力足够强大，完全可以使地球脱离太阳的束缚，飞向星际空间。地球的引力对木星及其卫星的轨道影响很小。"
   ]
  },
  {
   "cell_type": "markdown",
   "metadata": {},
   "source": [
    "###  <font color=blue>4. 新的家园，比邻星</font>"
   ]
  },
  {
   "cell_type": "markdown",
   "metadata": {},
   "source": [
    "#### 对于流浪地球的目标比邻星，这里只说明一点。作者选择比邻星作为目标，主要是因为这是距离太阳系最近的一颗恒星（4.22光年）。但是有一个小问题，比邻星的位置坐标为 赤纬 -62°。地球若要飞到比邻星，必须获得相当大的黄道面外的速度增量，得到约62度的轨道倾角才能向比邻星飞去，这个代价是相当大的。参考旅行者1号，经过了木星和土星的引力加速，也只获得了约12度的轨道倾角，完全没有能力飞向纬度这么高度比邻星。\n",
    "#### 作为参考，距离太阳系第二近的恒星，<font color=red>**巴纳德星**</font>，距离太阳系6光年，赤纬只有4度。而且2011年在该恒星宜居带中发现了首颗类地行星，可以说是非常理想的星际移民目标了。"
   ]
  },
  {
   "cell_type": "code",
   "execution_count": null,
   "metadata": {},
   "outputs": [],
   "source": []
  }
 ],
 "metadata": {
  "kernelspec": {
   "display_name": "Python 3",
   "language": "python",
   "name": "python3"
  },
  "language_info": {
   "codemirror_mode": {
    "name": "ipython",
    "version": 3
   },
   "file_extension": ".py",
   "mimetype": "text/x-python",
   "name": "python",
   "nbconvert_exporter": "python",
   "pygments_lexer": "ipython3",
   "version": "3.6.6"
  }
 },
 "nbformat": 4,
 "nbformat_minor": 2
}
